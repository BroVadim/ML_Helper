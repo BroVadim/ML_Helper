{
 "cells": [
  {
   "cell_type": "code",
   "execution_count": 4,
   "id": "f405dddd-3fa3-4113-b7d7-29e6c585a9fa",
   "metadata": {},
   "outputs": [],
   "source": [
    "import re\n",
    "import pandas as pd\n",
    "import os"
   ]
  },
  {
   "cell_type": "code",
   "execution_count": 15,
   "id": "2c5d8c4a-e044-4586-b25f-242565f3a20f",
   "metadata": {},
   "outputs": [],
   "source": [
    "class InvalidExtension(Exception):\n",
    "    def __init__(self, extension):\n",
    "        error_message = f'Расширение .{extension} не поддерживается'\n",
    "        super().__init__(error_message)"
   ]
  },
  {
   "cell_type": "code",
   "execution_count": 20,
   "id": "05b27573-6c3a-4646-990a-96ae93acf642",
   "metadata": {},
   "outputs": [],
   "source": [
    "def read_file(file_path, separator=';'):\n",
    "    df = None\n",
    "    if os.path.exists(file_path):\n",
    "        filename = file_path.split('//')[-1]\n",
    "        file_extension = filename.split('.')[-1].lower()\n",
    "        if file_extension == 'xlsx':\n",
    "            df = pd.read_excel(file_path)\n",
    "        elif file_extension == 'csv':\n",
    "            df = pd.read_csv(file_path, sep=separator, encoding='cp1251')\n",
    "        else:\n",
    "            raise InvalidExtension(file_extension)\n",
    "    else:\n",
    "        raise FileNotFoundError(f'Файл по пути {file_path} не существует')\n",
    "    return df"
   ]
  },
  {
   "cell_type": "code",
   "execution_count": 60,
   "id": "39aa21b2-0271-4ea0-81d4-b3eb9350b78c",
   "metadata": {},
   "outputs": [],
   "source": [
    "df = read_file('battles.csv',',')"
   ]
  },
  {
   "cell_type": "code",
   "execution_count": 63,
   "id": "bc3010fe-2a05-48bc-a6fa-ae7f8cc3fcf0",
   "metadata": {},
   "outputs": [],
   "source": [
    "def mem_usage(pandas_obj):\n",
    "    if isinstance(pandas_obj,pd.DataFrame):\n",
    "        usage_b = pandas_obj.memory_usage(deep=True).sum()\n",
    "    else: # исходим из предположения о том, что если это не DataFrame, то это Series\n",
    "        usage_b = pandas_obj.memory_usage(deep=True)\n",
    "    usage_mb = usage_b / 1024 ** 2 # преобразуем байты в мегабайты\n",
    "    return \"{:03.2f} MB\".format(usage_mb)"
   ]
  },
  {
   "cell_type": "code",
   "execution_count": 68,
   "id": "0083ee58-5d43-4679-87fe-221bbee531cc",
   "metadata": {},
   "outputs": [
    {
     "data": {
      "text/plain": [
       "'0.04 MB'"
      ]
     },
     "execution_count": 68,
     "metadata": {},
     "output_type": "execute_result"
    }
   ],
   "source": [
    "mem_usage(df)"
   ]
  },
  {
   "cell_type": "code",
   "execution_count": 65,
   "id": "6cc36c68-6f08-44df-b148-985304a08eaa",
   "metadata": {},
   "outputs": [],
   "source": [
    "float64_columns = df.select_dtypes(include=\"float64\").columns\n",
    "for float64_column in float64_columns:\n",
    "    df[float64_column] = df[float64_column].astype('float32')"
   ]
  },
  {
   "cell_type": "code",
   "execution_count": 67,
   "id": "4841b0c0-ae97-46e4-9773-8dbcb8e6b3d4",
   "metadata": {},
   "outputs": [],
   "source": [
    "int64_columns = df.select_dtypes(include=\"int64\").columns\n",
    "for int64_column in int64_columns:\n",
    "    type_check_list = list((df[int64_column]>2147483648) & (df[int64_column]<-2147483648))\n",
    "    if not any(type_check_list):\n",
    "        df[int64_column] = df[int64_column].astype('int32')\n",
    "    else:\n",
    "        pass"
   ]
  },
  {
   "cell_type": "code",
   "execution_count": null,
   "id": "867294ab-14f0-4dcf-a2bc-7052a75829ca",
   "metadata": {},
   "outputs": [],
   "source": [
    "object_columns = df.select_dtypes(include=\"object\").columns\n",
    "for object_column in object_columns:\n",
    "    num_unique_values = len(df[object_column].unique())\n",
    "    num_total_values = len(df[object_column])\n",
    "    if num_unique_values / num_total_values < 0.5:\n",
    "        df[object_column] = df[object_column].astype('category')"
   ]
  },
  {
   "cell_type": "code",
   "execution_count": null,
   "id": "96991976-9a36-4873-b572-6f0fae3732aa",
   "metadata": {},
   "outputs": [],
   "source": []
  },
  {
   "cell_type": "code",
   "execution_count": null,
   "id": "f10709a5-4906-4d61-a1c9-49a5fc8d3c53",
   "metadata": {},
   "outputs": [],
   "source": []
  }
 ],
 "metadata": {
  "kernelspec": {
   "display_name": "Python 3 (ipykernel)",
   "language": "python",
   "name": "python3"
  },
  "language_info": {
   "codemirror_mode": {
    "name": "ipython",
    "version": 3
   },
   "file_extension": ".py",
   "mimetype": "text/x-python",
   "name": "python",
   "nbconvert_exporter": "python",
   "pygments_lexer": "ipython3",
   "version": "3.9.13"
  }
 },
 "nbformat": 4,
 "nbformat_minor": 5
}
