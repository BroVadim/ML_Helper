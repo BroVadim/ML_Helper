{
 "cells": [
  {
   "cell_type": "code",
   "execution_count": 1,
   "id": "f405dddd-3fa3-4113-b7d7-29e6c585a9fa",
   "metadata": {},
   "outputs": [],
   "source": [
    "import re\n",
    "import pandas as pd\n",
    "import os\n",
    "import numpy as np"
   ]
  },
  {
   "cell_type": "code",
   "execution_count": 2,
   "id": "2c5d8c4a-e044-4586-b25f-242565f3a20f",
   "metadata": {},
   "outputs": [],
   "source": [
    "class InvalidExtension(Exception):\n",
    "    def __init__(self, extension):\n",
    "        error_message = f'Расширение .{extension} не поддерживается'\n",
    "        super().__init__(error_message)\n",
    "        \n",
    "def read_file(file_path, separator=';'):\n",
    "    df = None\n",
    "    if os.path.exists(file_path):\n",
    "        filename = file_path.split('//')[-1]\n",
    "        file_extension = filename.split('.')[-1].lower()\n",
    "        if file_extension == 'xlsx':\n",
    "            df = pd.read_excel(file_path)\n",
    "        elif file_extension == 'csv':\n",
    "            df = pd.read_csv(file_path, sep=separator, encoding='cp1251')\n",
    "        else:\n",
    "            raise InvalidExtension(file_extension)\n",
    "    else:\n",
    "        raise FileNotFoundError(f'Файл по пути {file_path} не существует')\n",
    "    return df\n",
    "\n",
    "def mem_usage(pandas_obj):\n",
    "    if isinstance(pandas_obj,pd.DataFrame):\n",
    "        usage_b = pandas_obj.memory_usage(deep=True).sum()\n",
    "    else: # исходим из предположения о том, что если это не DataFrame, то это Series\n",
    "        usage_b = pandas_obj.memory_usage(deep=True)\n",
    "    usage_mb = usage_b / 1024 ** 2 # преобразуем байты в мегабайты\n",
    "    return \"{:03.2f} MB\".format(usage_mb)\n",
    "\n",
    "def frame_memory_worker(mw_df):\n",
    "    float64_columns =  mw_df.select_dtypes(include=\"float64\").columns\n",
    "    for float64_column in float64_columns:\n",
    "        mw_df[float64_column] = mw_df[float64_column].astype('float32')\n",
    "    \n",
    "    int64_columns = mw_df.select_dtypes(include=\"int64\").columns\n",
    "    for int64_column in int64_columns:\n",
    "        type_check_list = list(\n",
    "            (mw_df[int64_column]>2147483648) & (mw_df[int64_column]<-2147483648)\n",
    "        )\n",
    "        # если ни один элемент не выходит за пределы типа данных int32\n",
    "        if not any(type_check_list):\n",
    "            mw_df[int64_column] = mw_df[int64_column].astype('int32')\n",
    "        else:\n",
    "            pass\n",
    "    \n",
    "    object_columns = mw_df.select_dtypes(include=\"object\").columns\n",
    "    for object_column in object_columns:\n",
    "        num_unique_values = len(mw_df[object_column].unique())\n",
    "        num_total_values = len(mw_df[object_column])\n",
    "        if num_unique_values / num_total_values < 0.5:\n",
    "            mw_df[object_column] = mw_df[object_column].astype(\"category\")\n",
    "    \n",
    "    return mw_df\n",
    "\n",
    "def outlier_worker(outlier_df, search_column):\n",
    "    start_df = outlier_df.copy()\n",
    "    # Расчет 1 и 3 квантиля\n",
    "    Q1 = outlier_df[search_column].quantile(0.25)\n",
    "    Q3 = outlier_df[search_column].quantile(0.75)\n",
    "    IQR = Q3-Q1\n",
    "    # Расчет верхней и нижней границы данных\n",
    "    lower = Q1 - 1.5*IQR\n",
    "    upper = Q3 + 1.5*IQR\n",
    "    # Создание списков bool-значений  для выявления строк с отклонениями\n",
    "    upper_array = np.where(outlier_df[search_column]>=upper)[0]\n",
    "    lower_array = np.where(outlier_df[search_column]<=lower)[0]\n",
    "    # Удаление строк с отклонениями\n",
    "    outlier_df.drop(index=upper_array, inplace=True)\n",
    "    outlier_df.drop(index=lower_array, inplace=True)\n",
    "    return outlier_df"
   ]
  },
  {
   "cell_type": "code",
   "execution_count": null,
   "id": "bb1e0808-930f-44e2-9afd-95148d713706",
   "metadata": {},
   "outputs": [],
   "source": []
  },
  {
   "cell_type": "code",
   "execution_count": null,
   "id": "b54c1343-23c2-4b90-a27b-0c4f2dc97fb0",
   "metadata": {},
   "outputs": [],
   "source": []
  },
  {
   "cell_type": "code",
   "execution_count": null,
   "id": "3bb4e39d-786d-4bac-8069-25cbde1d5c10",
   "metadata": {},
   "outputs": [],
   "source": [
    "\n",
    "simple_imputer = SimpleImputer(strategy='median')\n",
    "std_scaler = StandardScaler()\n",
    "pipe_num = Pipeline([('imputer', simple_imputer), ('scaler', std_scaler)])\n",
    "\n",
    "res_num = pipe_num.fit_transform(features_train.drop(['ocean_proximity'], axis=1))\n",
    "\n",
    "s_imputer = SimpleImputer(strategy='constant', fill_value='unknown')\n",
    "ohe_encoder = OneHotEncoder(handle_unknown='ignore', sparse=False)\n",
    "pipe_cat = Pipeline([('imputer', s_imputer), ('encoder', ohe_encoder)])\n",
    "\n",
    "res_cat = pipe_cat.fit_transform(features_train[['ocean_proximity']])\n",
    "\n",
    "res_df_cat = pd.DataFrame(res_cat, columns=pipe_cat.get_feature_names_out())\n",
    "res_df_cat\n",
    "\n"
   ]
  },
  {
   "cell_type": "code",
   "execution_count": null,
   "id": "250533a5-7184-4d87-818b-12d262083b7c",
   "metadata": {},
   "outputs": [],
   "source": [
    "col_transformer = ColumnTransformer([('num_preproc', pipe_num, [x for x in features.columns if features[x].dtype!='object']),\n",
    "                                     ('cat_preproc', pipe_cat, [x for x in features.columns if features[x].dtype=='object'])])"
   ]
  },
  {
   "cell_type": "code",
   "execution_count": null,
   "id": "d9ffccb7-645c-447f-ba02-b80404794b37",
   "metadata": {},
   "outputs": [],
   "source": [
    "model = Ridge()\n",
    "\n",
    "final_pipe = Pipeline([('preproc', col_transformer),\n",
    "                       ('model', model)])"
   ]
  },
  {
   "cell_type": "code",
   "execution_count": null,
   "id": "3f3d309e-81a7-4ae8-9fb9-cbe01968681d",
   "metadata": {},
   "outputs": [],
   "source": []
  },
  {
   "cell_type": "code",
   "execution_count": 4,
   "id": "39aa21b2-0271-4ea0-81d4-b3eb9350b78c",
   "metadata": {},
   "outputs": [],
   "source": [
    "df = read_file('battles.csv',',')"
   ]
  },
  {
   "cell_type": "code",
   "execution_count": 10,
   "id": "0083ee58-5d43-4679-87fe-221bbee531cc",
   "metadata": {},
   "outputs": [
    {
     "data": {
      "text/plain": [
       "'0.02 MB'"
      ]
     },
     "execution_count": 10,
     "metadata": {},
     "output_type": "execute_result"
    }
   ],
   "source": [
    "mem_usage(df)"
   ]
  },
  {
   "cell_type": "code",
   "execution_count": null,
   "id": "cacb831a-c544-4c0e-ba40-3dc05cda2a1b",
   "metadata": {},
   "outputs": [],
   "source": []
  }
 ],
 "metadata": {
  "kernelspec": {
   "display_name": "Python 3 (ipykernel)",
   "language": "python",
   "name": "python3"
  },
  "language_info": {
   "codemirror_mode": {
    "name": "ipython",
    "version": 3
   },
   "file_extension": ".py",
   "mimetype": "text/x-python",
   "name": "python",
   "nbconvert_exporter": "python",
   "pygments_lexer": "ipython3",
   "version": "3.9.13"
  }
 },
 "nbformat": 4,
 "nbformat_minor": 5
}
